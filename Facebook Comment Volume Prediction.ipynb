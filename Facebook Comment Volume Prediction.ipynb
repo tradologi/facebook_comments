{
 "cells": [
  {
   "cell_type": "code",
   "execution_count": 1,
   "id": "32d0bef4",
   "metadata": {},
   "outputs": [],
   "source": [
    "import pandas as pd\n",
    "import matplotlib.pyplot as plt\n",
    "import seaborn as sns\n",
    "import numpy as np"
   ]
  },
  {
   "cell_type": "code",
   "execution_count": 2,
   "id": "2dbd96d1",
   "metadata": {},
   "outputs": [],
   "source": [
    "page_features = ['likes','visitors','daily_interest','category']\n",
    "derived = ['derived_{}'.format(i) for i in range(1,26)]\n",
    "essential_features = ['C_{}'.format(i) for i in range(1,6)]\n",
    "base_features = ['base_time','post_length','share_count','promotion_status','H_hrs']\n",
    "weekday = ['Sunday', 'Monday', 'Tuesday', 'Wednesday', 'Thursday', 'Friday', 'Saturday']\n",
    "base_DT = ['BDT_Sun', 'BDT_Mon', 'BDT_Tue', 'BDT_Wed', 'BDT_Thu', 'BDT_Fri', 'BDT_Sat']\n",
    "target = ['No_of_Comments_in_H_hours']\n",
    "cols = page_features+derived+essential_features+base_features+weekday+base_DT+target"
   ]
  },
  {
   "cell_type": "code",
   "execution_count": 3,
   "id": "8da7b9ba",
   "metadata": {},
   "outputs": [
    {
     "ename": "FileNotFoundError",
     "evalue": "[Errno 2] No such file or directory: 'Training\\\\Features_Variant_1.csv'",
     "output_type": "error",
     "traceback": [
      "\u001b[0;31m---------------------------------------------------------------------------\u001b[0m",
      "\u001b[0;31mFileNotFoundError\u001b[0m                         Traceback (most recent call last)",
      "Cell \u001b[0;32mIn[3], line 1\u001b[0m\n\u001b[0;32m----> 1\u001b[0m train1 \u001b[38;5;241m=\u001b[39m \u001b[43mpd\u001b[49m\u001b[38;5;241;43m.\u001b[39;49m\u001b[43mread_csv\u001b[49m\u001b[43m(\u001b[49m\u001b[38;5;124;43mr\u001b[39;49m\u001b[38;5;124;43m\"\u001b[39;49m\u001b[38;5;124;43mTraining\u001b[39;49m\u001b[38;5;124;43m\\\u001b[39;49m\u001b[38;5;124;43mFeatures_Variant_1.csv\u001b[39;49m\u001b[38;5;124;43m\"\u001b[39;49m\u001b[43m,\u001b[49m\n\u001b[1;32m      2\u001b[0m \u001b[43m                    \u001b[49m\u001b[43mnames\u001b[49m\u001b[43m \u001b[49m\u001b[38;5;241;43m=\u001b[39;49m\u001b[43m \u001b[49m\u001b[43mcols\u001b[49m\u001b[43m,\u001b[49m\u001b[43m \u001b[49m\u001b[43mheader\u001b[49m\u001b[43m \u001b[49m\u001b[38;5;241;43m=\u001b[39;49m\u001b[43m \u001b[49m\u001b[38;5;28;43;01mNone\u001b[39;49;00m\u001b[43m)\u001b[49m\n\u001b[1;32m      3\u001b[0m train2 \u001b[38;5;241m=\u001b[39m pd\u001b[38;5;241m.\u001b[39mread_csv(\u001b[38;5;124mr\u001b[39m\u001b[38;5;124m\"\u001b[39m\u001b[38;5;124mTraining\u001b[39m\u001b[38;5;124m\\\u001b[39m\u001b[38;5;124mFeatures_Variant_2.csv\u001b[39m\u001b[38;5;124m\"\u001b[39m,\n\u001b[1;32m      4\u001b[0m                     names \u001b[38;5;241m=\u001b[39m cols, header \u001b[38;5;241m=\u001b[39m \u001b[38;5;28;01mNone\u001b[39;00m)\n\u001b[1;32m      5\u001b[0m train3 \u001b[38;5;241m=\u001b[39m pd\u001b[38;5;241m.\u001b[39mread_csv(\u001b[38;5;124mr\u001b[39m\u001b[38;5;124m\"\u001b[39m\u001b[38;5;124mTraining\u001b[39m\u001b[38;5;124m\\\u001b[39m\u001b[38;5;124mFeatures_Variant_3.csv\u001b[39m\u001b[38;5;124m\"\u001b[39m,\n\u001b[1;32m      6\u001b[0m                     names \u001b[38;5;241m=\u001b[39m cols, header \u001b[38;5;241m=\u001b[39m \u001b[38;5;28;01mNone\u001b[39;00m)\n",
      "File \u001b[0;32m~/Library/Python/3.9/lib/python/site-packages/pandas/io/parsers/readers.py:1026\u001b[0m, in \u001b[0;36mread_csv\u001b[0;34m(filepath_or_buffer, sep, delimiter, header, names, index_col, usecols, dtype, engine, converters, true_values, false_values, skipinitialspace, skiprows, skipfooter, nrows, na_values, keep_default_na, na_filter, verbose, skip_blank_lines, parse_dates, infer_datetime_format, keep_date_col, date_parser, date_format, dayfirst, cache_dates, iterator, chunksize, compression, thousands, decimal, lineterminator, quotechar, quoting, doublequote, escapechar, comment, encoding, encoding_errors, dialect, on_bad_lines, delim_whitespace, low_memory, memory_map, float_precision, storage_options, dtype_backend)\u001b[0m\n\u001b[1;32m   1013\u001b[0m kwds_defaults \u001b[38;5;241m=\u001b[39m _refine_defaults_read(\n\u001b[1;32m   1014\u001b[0m     dialect,\n\u001b[1;32m   1015\u001b[0m     delimiter,\n\u001b[0;32m   (...)\u001b[0m\n\u001b[1;32m   1022\u001b[0m     dtype_backend\u001b[38;5;241m=\u001b[39mdtype_backend,\n\u001b[1;32m   1023\u001b[0m )\n\u001b[1;32m   1024\u001b[0m kwds\u001b[38;5;241m.\u001b[39mupdate(kwds_defaults)\n\u001b[0;32m-> 1026\u001b[0m \u001b[38;5;28;01mreturn\u001b[39;00m \u001b[43m_read\u001b[49m\u001b[43m(\u001b[49m\u001b[43mfilepath_or_buffer\u001b[49m\u001b[43m,\u001b[49m\u001b[43m \u001b[49m\u001b[43mkwds\u001b[49m\u001b[43m)\u001b[49m\n",
      "File \u001b[0;32m~/Library/Python/3.9/lib/python/site-packages/pandas/io/parsers/readers.py:620\u001b[0m, in \u001b[0;36m_read\u001b[0;34m(filepath_or_buffer, kwds)\u001b[0m\n\u001b[1;32m    617\u001b[0m _validate_names(kwds\u001b[38;5;241m.\u001b[39mget(\u001b[38;5;124m\"\u001b[39m\u001b[38;5;124mnames\u001b[39m\u001b[38;5;124m\"\u001b[39m, \u001b[38;5;28;01mNone\u001b[39;00m))\n\u001b[1;32m    619\u001b[0m \u001b[38;5;66;03m# Create the parser.\u001b[39;00m\n\u001b[0;32m--> 620\u001b[0m parser \u001b[38;5;241m=\u001b[39m \u001b[43mTextFileReader\u001b[49m\u001b[43m(\u001b[49m\u001b[43mfilepath_or_buffer\u001b[49m\u001b[43m,\u001b[49m\u001b[43m \u001b[49m\u001b[38;5;241;43m*\u001b[39;49m\u001b[38;5;241;43m*\u001b[39;49m\u001b[43mkwds\u001b[49m\u001b[43m)\u001b[49m\n\u001b[1;32m    622\u001b[0m \u001b[38;5;28;01mif\u001b[39;00m chunksize \u001b[38;5;129;01mor\u001b[39;00m iterator:\n\u001b[1;32m    623\u001b[0m     \u001b[38;5;28;01mreturn\u001b[39;00m parser\n",
      "File \u001b[0;32m~/Library/Python/3.9/lib/python/site-packages/pandas/io/parsers/readers.py:1620\u001b[0m, in \u001b[0;36mTextFileReader.__init__\u001b[0;34m(self, f, engine, **kwds)\u001b[0m\n\u001b[1;32m   1617\u001b[0m     \u001b[38;5;28mself\u001b[39m\u001b[38;5;241m.\u001b[39moptions[\u001b[38;5;124m\"\u001b[39m\u001b[38;5;124mhas_index_names\u001b[39m\u001b[38;5;124m\"\u001b[39m] \u001b[38;5;241m=\u001b[39m kwds[\u001b[38;5;124m\"\u001b[39m\u001b[38;5;124mhas_index_names\u001b[39m\u001b[38;5;124m\"\u001b[39m]\n\u001b[1;32m   1619\u001b[0m \u001b[38;5;28mself\u001b[39m\u001b[38;5;241m.\u001b[39mhandles: IOHandles \u001b[38;5;241m|\u001b[39m \u001b[38;5;28;01mNone\u001b[39;00m \u001b[38;5;241m=\u001b[39m \u001b[38;5;28;01mNone\u001b[39;00m\n\u001b[0;32m-> 1620\u001b[0m \u001b[38;5;28mself\u001b[39m\u001b[38;5;241m.\u001b[39m_engine \u001b[38;5;241m=\u001b[39m \u001b[38;5;28;43mself\u001b[39;49m\u001b[38;5;241;43m.\u001b[39;49m\u001b[43m_make_engine\u001b[49m\u001b[43m(\u001b[49m\u001b[43mf\u001b[49m\u001b[43m,\u001b[49m\u001b[43m \u001b[49m\u001b[38;5;28;43mself\u001b[39;49m\u001b[38;5;241;43m.\u001b[39;49m\u001b[43mengine\u001b[49m\u001b[43m)\u001b[49m\n",
      "File \u001b[0;32m~/Library/Python/3.9/lib/python/site-packages/pandas/io/parsers/readers.py:1880\u001b[0m, in \u001b[0;36mTextFileReader._make_engine\u001b[0;34m(self, f, engine)\u001b[0m\n\u001b[1;32m   1878\u001b[0m     \u001b[38;5;28;01mif\u001b[39;00m \u001b[38;5;124m\"\u001b[39m\u001b[38;5;124mb\u001b[39m\u001b[38;5;124m\"\u001b[39m \u001b[38;5;129;01mnot\u001b[39;00m \u001b[38;5;129;01min\u001b[39;00m mode:\n\u001b[1;32m   1879\u001b[0m         mode \u001b[38;5;241m+\u001b[39m\u001b[38;5;241m=\u001b[39m \u001b[38;5;124m\"\u001b[39m\u001b[38;5;124mb\u001b[39m\u001b[38;5;124m\"\u001b[39m\n\u001b[0;32m-> 1880\u001b[0m \u001b[38;5;28mself\u001b[39m\u001b[38;5;241m.\u001b[39mhandles \u001b[38;5;241m=\u001b[39m \u001b[43mget_handle\u001b[49m\u001b[43m(\u001b[49m\n\u001b[1;32m   1881\u001b[0m \u001b[43m    \u001b[49m\u001b[43mf\u001b[49m\u001b[43m,\u001b[49m\n\u001b[1;32m   1882\u001b[0m \u001b[43m    \u001b[49m\u001b[43mmode\u001b[49m\u001b[43m,\u001b[49m\n\u001b[1;32m   1883\u001b[0m \u001b[43m    \u001b[49m\u001b[43mencoding\u001b[49m\u001b[38;5;241;43m=\u001b[39;49m\u001b[38;5;28;43mself\u001b[39;49m\u001b[38;5;241;43m.\u001b[39;49m\u001b[43moptions\u001b[49m\u001b[38;5;241;43m.\u001b[39;49m\u001b[43mget\u001b[49m\u001b[43m(\u001b[49m\u001b[38;5;124;43m\"\u001b[39;49m\u001b[38;5;124;43mencoding\u001b[39;49m\u001b[38;5;124;43m\"\u001b[39;49m\u001b[43m,\u001b[49m\u001b[43m \u001b[49m\u001b[38;5;28;43;01mNone\u001b[39;49;00m\u001b[43m)\u001b[49m\u001b[43m,\u001b[49m\n\u001b[1;32m   1884\u001b[0m \u001b[43m    \u001b[49m\u001b[43mcompression\u001b[49m\u001b[38;5;241;43m=\u001b[39;49m\u001b[38;5;28;43mself\u001b[39;49m\u001b[38;5;241;43m.\u001b[39;49m\u001b[43moptions\u001b[49m\u001b[38;5;241;43m.\u001b[39;49m\u001b[43mget\u001b[49m\u001b[43m(\u001b[49m\u001b[38;5;124;43m\"\u001b[39;49m\u001b[38;5;124;43mcompression\u001b[39;49m\u001b[38;5;124;43m\"\u001b[39;49m\u001b[43m,\u001b[49m\u001b[43m \u001b[49m\u001b[38;5;28;43;01mNone\u001b[39;49;00m\u001b[43m)\u001b[49m\u001b[43m,\u001b[49m\n\u001b[1;32m   1885\u001b[0m \u001b[43m    \u001b[49m\u001b[43mmemory_map\u001b[49m\u001b[38;5;241;43m=\u001b[39;49m\u001b[38;5;28;43mself\u001b[39;49m\u001b[38;5;241;43m.\u001b[39;49m\u001b[43moptions\u001b[49m\u001b[38;5;241;43m.\u001b[39;49m\u001b[43mget\u001b[49m\u001b[43m(\u001b[49m\u001b[38;5;124;43m\"\u001b[39;49m\u001b[38;5;124;43mmemory_map\u001b[39;49m\u001b[38;5;124;43m\"\u001b[39;49m\u001b[43m,\u001b[49m\u001b[43m \u001b[49m\u001b[38;5;28;43;01mFalse\u001b[39;49;00m\u001b[43m)\u001b[49m\u001b[43m,\u001b[49m\n\u001b[1;32m   1886\u001b[0m \u001b[43m    \u001b[49m\u001b[43mis_text\u001b[49m\u001b[38;5;241;43m=\u001b[39;49m\u001b[43mis_text\u001b[49m\u001b[43m,\u001b[49m\n\u001b[1;32m   1887\u001b[0m \u001b[43m    \u001b[49m\u001b[43merrors\u001b[49m\u001b[38;5;241;43m=\u001b[39;49m\u001b[38;5;28;43mself\u001b[39;49m\u001b[38;5;241;43m.\u001b[39;49m\u001b[43moptions\u001b[49m\u001b[38;5;241;43m.\u001b[39;49m\u001b[43mget\u001b[49m\u001b[43m(\u001b[49m\u001b[38;5;124;43m\"\u001b[39;49m\u001b[38;5;124;43mencoding_errors\u001b[39;49m\u001b[38;5;124;43m\"\u001b[39;49m\u001b[43m,\u001b[49m\u001b[43m \u001b[49m\u001b[38;5;124;43m\"\u001b[39;49m\u001b[38;5;124;43mstrict\u001b[39;49m\u001b[38;5;124;43m\"\u001b[39;49m\u001b[43m)\u001b[49m\u001b[43m,\u001b[49m\n\u001b[1;32m   1888\u001b[0m \u001b[43m    \u001b[49m\u001b[43mstorage_options\u001b[49m\u001b[38;5;241;43m=\u001b[39;49m\u001b[38;5;28;43mself\u001b[39;49m\u001b[38;5;241;43m.\u001b[39;49m\u001b[43moptions\u001b[49m\u001b[38;5;241;43m.\u001b[39;49m\u001b[43mget\u001b[49m\u001b[43m(\u001b[49m\u001b[38;5;124;43m\"\u001b[39;49m\u001b[38;5;124;43mstorage_options\u001b[39;49m\u001b[38;5;124;43m\"\u001b[39;49m\u001b[43m,\u001b[49m\u001b[43m \u001b[49m\u001b[38;5;28;43;01mNone\u001b[39;49;00m\u001b[43m)\u001b[49m\u001b[43m,\u001b[49m\n\u001b[1;32m   1889\u001b[0m \u001b[43m\u001b[49m\u001b[43m)\u001b[49m\n\u001b[1;32m   1890\u001b[0m \u001b[38;5;28;01massert\u001b[39;00m \u001b[38;5;28mself\u001b[39m\u001b[38;5;241m.\u001b[39mhandles \u001b[38;5;129;01mis\u001b[39;00m \u001b[38;5;129;01mnot\u001b[39;00m \u001b[38;5;28;01mNone\u001b[39;00m\n\u001b[1;32m   1891\u001b[0m f \u001b[38;5;241m=\u001b[39m \u001b[38;5;28mself\u001b[39m\u001b[38;5;241m.\u001b[39mhandles\u001b[38;5;241m.\u001b[39mhandle\n",
      "File \u001b[0;32m~/Library/Python/3.9/lib/python/site-packages/pandas/io/common.py:873\u001b[0m, in \u001b[0;36mget_handle\u001b[0;34m(path_or_buf, mode, encoding, compression, memory_map, is_text, errors, storage_options)\u001b[0m\n\u001b[1;32m    868\u001b[0m \u001b[38;5;28;01melif\u001b[39;00m \u001b[38;5;28misinstance\u001b[39m(handle, \u001b[38;5;28mstr\u001b[39m):\n\u001b[1;32m    869\u001b[0m     \u001b[38;5;66;03m# Check whether the filename is to be opened in binary mode.\u001b[39;00m\n\u001b[1;32m    870\u001b[0m     \u001b[38;5;66;03m# Binary mode does not support 'encoding' and 'newline'.\u001b[39;00m\n\u001b[1;32m    871\u001b[0m     \u001b[38;5;28;01mif\u001b[39;00m ioargs\u001b[38;5;241m.\u001b[39mencoding \u001b[38;5;129;01mand\u001b[39;00m \u001b[38;5;124m\"\u001b[39m\u001b[38;5;124mb\u001b[39m\u001b[38;5;124m\"\u001b[39m \u001b[38;5;129;01mnot\u001b[39;00m \u001b[38;5;129;01min\u001b[39;00m ioargs\u001b[38;5;241m.\u001b[39mmode:\n\u001b[1;32m    872\u001b[0m         \u001b[38;5;66;03m# Encoding\u001b[39;00m\n\u001b[0;32m--> 873\u001b[0m         handle \u001b[38;5;241m=\u001b[39m \u001b[38;5;28;43mopen\u001b[39;49m\u001b[43m(\u001b[49m\n\u001b[1;32m    874\u001b[0m \u001b[43m            \u001b[49m\u001b[43mhandle\u001b[49m\u001b[43m,\u001b[49m\n\u001b[1;32m    875\u001b[0m \u001b[43m            \u001b[49m\u001b[43mioargs\u001b[49m\u001b[38;5;241;43m.\u001b[39;49m\u001b[43mmode\u001b[49m\u001b[43m,\u001b[49m\n\u001b[1;32m    876\u001b[0m \u001b[43m            \u001b[49m\u001b[43mencoding\u001b[49m\u001b[38;5;241;43m=\u001b[39;49m\u001b[43mioargs\u001b[49m\u001b[38;5;241;43m.\u001b[39;49m\u001b[43mencoding\u001b[49m\u001b[43m,\u001b[49m\n\u001b[1;32m    877\u001b[0m \u001b[43m            \u001b[49m\u001b[43merrors\u001b[49m\u001b[38;5;241;43m=\u001b[39;49m\u001b[43merrors\u001b[49m\u001b[43m,\u001b[49m\n\u001b[1;32m    878\u001b[0m \u001b[43m            \u001b[49m\u001b[43mnewline\u001b[49m\u001b[38;5;241;43m=\u001b[39;49m\u001b[38;5;124;43m\"\u001b[39;49m\u001b[38;5;124;43m\"\u001b[39;49m\u001b[43m,\u001b[49m\n\u001b[1;32m    879\u001b[0m \u001b[43m        \u001b[49m\u001b[43m)\u001b[49m\n\u001b[1;32m    880\u001b[0m     \u001b[38;5;28;01melse\u001b[39;00m:\n\u001b[1;32m    881\u001b[0m         \u001b[38;5;66;03m# Binary mode\u001b[39;00m\n\u001b[1;32m    882\u001b[0m         handle \u001b[38;5;241m=\u001b[39m \u001b[38;5;28mopen\u001b[39m(handle, ioargs\u001b[38;5;241m.\u001b[39mmode)\n",
      "\u001b[0;31mFileNotFoundError\u001b[0m: [Errno 2] No such file or directory: 'Training\\\\Features_Variant_1.csv'"
     ]
    }
   ],
   "source": [
    "train1 = pd.read_csv(r\"Training\\Features_Variant_1.csv\",\n",
    "                    names = cols, header = None)\n",
    "train2 = pd.read_csv(r\"Training\\Features_Variant_2.csv\",\n",
    "                    names = cols, header = None)\n",
    "train3 = pd.read_csv(r\"Training\\Features_Variant_3.csv\",\n",
    "                    names = cols, header = None)\n",
    "train4 = pd.read_csv(r\"Training\\Features_Variant_4.csv\",\n",
    "                    names = cols, header = None)\n",
    "train5 = pd.read_csv(r\"Training\\Features_Variant_5.csv\",\n",
    "                    names = cols, header = None)\n",
    "\n",
    "test1 = pd.read_csv(r\"Testing\\TestSet\\Test_Case_1.csv\",\n",
    "                    names = cols, header = None)\n",
    "test2 = pd.read_csv(r\"Testing\\TestSet\\Test_Case_2.csv\",\n",
    "                    names = cols, header = None)\n",
    "test3 = pd.read_csv(r\"Testing\\TestSet\\Test_Case_3.csv\",\n",
    "                    names = cols, header = None)\n",
    "test4 = pd.read_csv(r\"Testing\\TestSet\\Test_Case_4.csv\",\n",
    "                    names = cols, header = None)\n",
    "test5 = pd.read_csv(r\"Testing\\TestSet\\Test_Case_5.csv\",\n",
    "                    names = cols, header = None)\n",
    "test6 = pd.read_csv(r\"Testing\\TestSet\\Test_Case_6.csv\",\n",
    "                    names = cols, header = None)\n",
    "test7 = pd.read_csv(r\"Testing\\TestSet\\Test_Case_7.csv\",\n",
    "                    names = cols, header = None)\n",
    "test8 = pd.read_csv(r\"Testing\\TestSet\\Test_Case_8.csv\",\n",
    "                    names = cols, header = None)\n",
    "test9 = pd.read_csv(r\"Testing\\TestSet\\Test_Case_9.csv\",\n",
    "                    names = cols, header = None)\n",
    "test10 = pd.read_csv(r\"Testing\\TestSet\\Test_Case_10.csv\",\n",
    "                    names = cols, header = None)"
   ]
  },
  {
   "cell_type": "code",
   "execution_count": null,
   "id": "19a1d488",
   "metadata": {},
   "outputs": [
    {
     "ename": "",
     "evalue": "",
     "output_type": "error",
     "traceback": [
      "\u001b[1;31mFailed to start the Kernel. \n",
      "\u001b[1;31mFailed to start the Kernel 'Python 3.9.6'. \n",
      "\u001b[1;31mView Jupyter <a href='command:jupyter.viewOutput'>log</a> for further details. Activating /usr/bin/python3 to run Jupyter failed with function toString() { [native code] }"
     ]
    }
   ],
   "source": [
    "train1.shape"
   ]
  },
  {
   "cell_type": "code",
   "execution_count": null,
   "id": "24063d36",
   "metadata": {},
   "outputs": [
    {
     "ename": "",
     "evalue": "",
     "output_type": "error",
     "traceback": [
      "\u001b[1;31mFailed to start the Kernel. \n",
      "\u001b[1;31mFailed to start the Kernel 'Python 3.9.6'. \n",
      "\u001b[1;31mView Jupyter <a href='command:jupyter.viewOutput'>log</a> for further details. Activating /usr/bin/python3 to run Jupyter failed with function toString() { [native code] }"
     ]
    }
   ],
   "source": [
    "train2.shape"
   ]
  },
  {
   "cell_type": "code",
   "execution_count": null,
   "id": "21740638",
   "metadata": {},
   "outputs": [
    {
     "ename": "",
     "evalue": "",
     "output_type": "error",
     "traceback": [
      "\u001b[1;31mFailed to start the Kernel. \n",
      "\u001b[1;31mFailed to start the Kernel 'Python 3.9.6'. \n",
      "\u001b[1;31mView Jupyter <a href='command:jupyter.viewOutput'>log</a> for further details. Activating /usr/bin/python3 to run Jupyter failed with function toString() { [native code] }"
     ]
    }
   ],
   "source": [
    "train3.shape"
   ]
  },
  {
   "cell_type": "code",
   "execution_count": null,
   "id": "85dc59b7",
   "metadata": {},
   "outputs": [
    {
     "ename": "",
     "evalue": "",
     "output_type": "error",
     "traceback": [
      "\u001b[1;31mFailed to start the Kernel. \n",
      "\u001b[1;31mFailed to start the Kernel 'Python 3.9.6'. \n",
      "\u001b[1;31mView Jupyter <a href='command:jupyter.viewOutput'>log</a> for further details. Activating /usr/bin/python3 to run Jupyter failed with function toString() { [native code] }"
     ]
    }
   ],
   "source": [
    "train4.shape"
   ]
  },
  {
   "cell_type": "code",
   "execution_count": null,
   "id": "94a32463",
   "metadata": {},
   "outputs": [
    {
     "ename": "",
     "evalue": "",
     "output_type": "error",
     "traceback": [
      "\u001b[1;31mFailed to start the Kernel. \n",
      "\u001b[1;31mFailed to start the Kernel 'Python 3.9.6'. \n",
      "\u001b[1;31mView Jupyter <a href='command:jupyter.viewOutput'>log</a> for further details. Activating /usr/bin/python3 to run Jupyter failed with function toString() { [native code] }"
     ]
    }
   ],
   "source": [
    "train5.shape"
   ]
  },
  {
   "cell_type": "code",
   "execution_count": null,
   "id": "65eb9787",
   "metadata": {},
   "outputs": [
    {
     "ename": "",
     "evalue": "",
     "output_type": "error",
     "traceback": [
      "\u001b[1;31mFailed to start the Kernel. \n",
      "\u001b[1;31mFailed to start the Kernel 'Python 3.9.6'. \n",
      "\u001b[1;31mView Jupyter <a href='command:jupyter.viewOutput'>log</a> for further details. Activating /usr/bin/python3 to run Jupyter failed with function toString() { [native code] }"
     ]
    }
   ],
   "source": [
    "#train[['H_hrs','No_of_Comments_in_H_hours']].plot()\n",
    "sns.scatterplot(data=train1,x='H_hrs',y='No_of_Comments_in_H_hours')\n",
    "sns.scatterplot(data=train2,x='H_hrs',y='No_of_Comments_in_H_hours')\n",
    "sns.scatterplot(data=train3,x='H_hrs',y='No_of_Comments_in_H_hours')\n",
    "sns.scatterplot(data=train4,x='H_hrs',y='No_of_Comments_in_H_hours')\n",
    "sns.scatterplot(data=train5,x='H_hrs',y='No_of_Comments_in_H_hours')"
   ]
  },
  {
   "cell_type": "code",
   "execution_count": null,
   "id": "e9349bb7",
   "metadata": {},
   "outputs": [
    {
     "ename": "",
     "evalue": "",
     "output_type": "error",
     "traceback": [
      "\u001b[1;31mFailed to start the Kernel. \n",
      "\u001b[1;31mFailed to start the Kernel 'Python 3.9.6'. \n",
      "\u001b[1;31mView Jupyter <a href='command:jupyter.viewOutput'>log</a> for further details. Activating /usr/bin/python3 to run Jupyter failed with function toString() { [native code] }"
     ]
    }
   ],
   "source": [
    "train1[['H_hrs']].plot()"
   ]
  },
  {
   "cell_type": "code",
   "execution_count": null,
   "id": "1083e82c",
   "metadata": {},
   "outputs": [
    {
     "ename": "",
     "evalue": "",
     "output_type": "error",
     "traceback": [
      "\u001b[1;31mFailed to start the Kernel. \n",
      "\u001b[1;31mFailed to start the Kernel 'Python 3.9.6'. \n",
      "\u001b[1;31mView Jupyter <a href='command:jupyter.viewOutput'>log</a> for further details. Activating /usr/bin/python3 to run Jupyter failed with function toString() { [native code] }"
     ]
    }
   ],
   "source": [
    "train1.head()"
   ]
  },
  {
   "cell_type": "code",
   "execution_count": null,
   "id": "d97adced",
   "metadata": {},
   "outputs": [
    {
     "ename": "",
     "evalue": "",
     "output_type": "error",
     "traceback": [
      "\u001b[1;31mFailed to start the Kernel. \n",
      "\u001b[1;31mFailed to start the Kernel 'Python 3.9.6'. \n",
      "\u001b[1;31mView Jupyter <a href='command:jupyter.viewOutput'>log</a> for further details. Activating /usr/bin/python3 to run Jupyter failed with function toString() { [native code] }"
     ]
    }
   ],
   "source": [
    "train1.info()"
   ]
  },
  {
   "cell_type": "code",
   "execution_count": null,
   "id": "a1429116",
   "metadata": {},
   "outputs": [
    {
     "ename": "",
     "evalue": "",
     "output_type": "error",
     "traceback": [
      "\u001b[1;31mFailed to start the Kernel. \n",
      "\u001b[1;31mFailed to start the Kernel 'Python 3.9.6'. \n",
      "\u001b[1;31mView Jupyter <a href='command:jupyter.viewOutput'>log</a> for further details. Activating /usr/bin/python3 to run Jupyter failed with function toString() { [native code] }"
     ]
    }
   ],
   "source": [
    "train2.info()"
   ]
  },
  {
   "cell_type": "code",
   "execution_count": null,
   "id": "b8aa8a89",
   "metadata": {},
   "outputs": [
    {
     "ename": "",
     "evalue": "",
     "output_type": "error",
     "traceback": [
      "\u001b[1;31mFailed to start the Kernel. \n",
      "\u001b[1;31mFailed to start the Kernel 'Python 3.9.6'. \n",
      "\u001b[1;31mView Jupyter <a href='command:jupyter.viewOutput'>log</a> for further details. Activating /usr/bin/python3 to run Jupyter failed with function toString() { [native code] }"
     ]
    }
   ],
   "source": [
    "train3.info()"
   ]
  },
  {
   "cell_type": "code",
   "execution_count": null,
   "id": "bd4b6cfe",
   "metadata": {},
   "outputs": [
    {
     "ename": "",
     "evalue": "",
     "output_type": "error",
     "traceback": [
      "\u001b[1;31mFailed to start the Kernel. \n",
      "\u001b[1;31mFailed to start the Kernel 'Python 3.9.6'. \n",
      "\u001b[1;31mView Jupyter <a href='command:jupyter.viewOutput'>log</a> for further details. Activating /usr/bin/python3 to run Jupyter failed with function toString() { [native code] }"
     ]
    }
   ],
   "source": [
    "train4.info()"
   ]
  },
  {
   "cell_type": "code",
   "execution_count": null,
   "id": "fa84ac54",
   "metadata": {},
   "outputs": [
    {
     "ename": "",
     "evalue": "",
     "output_type": "error",
     "traceback": [
      "\u001b[1;31mFailed to start the Kernel. \n",
      "\u001b[1;31mFailed to start the Kernel 'Python 3.9.6'. \n",
      "\u001b[1;31mView Jupyter <a href='command:jupyter.viewOutput'>log</a> for further details. Activating /usr/bin/python3 to run Jupyter failed with function toString() { [native code] }"
     ]
    }
   ],
   "source": [
    "train5.info()"
   ]
  },
  {
   "cell_type": "markdown",
   "id": "56cdfa33",
   "metadata": {},
   "source": [
    "- No null values"
   ]
  },
  {
   "cell_type": "code",
   "execution_count": null,
   "id": "00d90213",
   "metadata": {},
   "outputs": [
    {
     "ename": "",
     "evalue": "",
     "output_type": "error",
     "traceback": [
      "\u001b[1;31mFailed to start the Kernel. \n",
      "\u001b[1;31mFailed to start the Kernel 'Python 3.9.6'. \n",
      "\u001b[1;31mView Jupyter <a href='command:jupyter.viewOutput'>log</a> for further details. Activating /usr/bin/python3 to run Jupyter failed with function toString() { [native code] }"
     ]
    }
   ],
   "source": [
    "train1.nunique()"
   ]
  },
  {
   "cell_type": "code",
   "execution_count": null,
   "id": "cb3c2e22",
   "metadata": {},
   "outputs": [
    {
     "ename": "",
     "evalue": "",
     "output_type": "error",
     "traceback": [
      "\u001b[1;31mFailed to start the Kernel. \n",
      "\u001b[1;31mFailed to start the Kernel 'Python 3.9.6'. \n",
      "\u001b[1;31mView Jupyter <a href='command:jupyter.viewOutput'>log</a> for further details. Activating /usr/bin/python3 to run Jupyter failed with function toString() { [native code] }"
     ]
    }
   ],
   "source": [
    "train2.nunique()"
   ]
  },
  {
   "cell_type": "code",
   "execution_count": null,
   "id": "66d7f6c4",
   "metadata": {},
   "outputs": [
    {
     "ename": "",
     "evalue": "",
     "output_type": "error",
     "traceback": [
      "\u001b[1;31mFailed to start the Kernel. \n",
      "\u001b[1;31mFailed to start the Kernel 'Python 3.9.6'. \n",
      "\u001b[1;31mView Jupyter <a href='command:jupyter.viewOutput'>log</a> for further details. Activating /usr/bin/python3 to run Jupyter failed with function toString() { [native code] }"
     ]
    }
   ],
   "source": [
    "train3.nunique()"
   ]
  },
  {
   "cell_type": "code",
   "execution_count": null,
   "id": "934e7256",
   "metadata": {},
   "outputs": [
    {
     "ename": "",
     "evalue": "",
     "output_type": "error",
     "traceback": [
      "\u001b[1;31mFailed to start the Kernel. \n",
      "\u001b[1;31mFailed to start the Kernel 'Python 3.9.6'. \n",
      "\u001b[1;31mView Jupyter <a href='command:jupyter.viewOutput'>log</a> for further details. Activating /usr/bin/python3 to run Jupyter failed with function toString() { [native code] }"
     ]
    }
   ],
   "source": [
    "train4.nunique()"
   ]
  },
  {
   "cell_type": "code",
   "execution_count": null,
   "id": "1eb35ad4",
   "metadata": {},
   "outputs": [
    {
     "ename": "",
     "evalue": "",
     "output_type": "error",
     "traceback": [
      "\u001b[1;31mFailed to start the Kernel. \n",
      "\u001b[1;31mFailed to start the Kernel 'Python 3.9.6'. \n",
      "\u001b[1;31mView Jupyter <a href='command:jupyter.viewOutput'>log</a> for further details. Activating /usr/bin/python3 to run Jupyter failed with function toString() { [native code] }"
     ]
    }
   ],
   "source": [
    "train5.nunique()"
   ]
  },
  {
   "cell_type": "code",
   "execution_count": null,
   "id": "d5f30ced",
   "metadata": {},
   "outputs": [
    {
     "ename": "",
     "evalue": "",
     "output_type": "error",
     "traceback": [
      "\u001b[1;31mFailed to start the Kernel. \n",
      "\u001b[1;31mFailed to start the Kernel 'Python 3.9.6'. \n",
      "\u001b[1;31mView Jupyter <a href='command:jupyter.viewOutput'>log</a> for further details. Activating /usr/bin/python3 to run Jupyter failed with function toString() { [native code] }"
     ]
    }
   ],
   "source": [
    "# Promotion Status contains a single value and hence is dropped\n",
    "train1.drop('promotion_status', axis=1, inplace=True)\n",
    "train2.drop('promotion_status', axis=1, inplace=True)\n",
    "train3.drop('promotion_status', axis=1, inplace=True)\n",
    "train4.drop('promotion_status', axis=1, inplace=True)\n",
    "train5.drop('promotion_status', axis=1, inplace=True)"
   ]
  },
  {
   "cell_type": "code",
   "execution_count": null,
   "id": "2a25c9b7",
   "metadata": {},
   "outputs": [
    {
     "ename": "",
     "evalue": "",
     "output_type": "error",
     "traceback": [
      "\u001b[1;31mFailed to start the Kernel. \n",
      "\u001b[1;31mFailed to start the Kernel 'Python 3.9.6'. \n",
      "\u001b[1;31mView Jupyter <a href='command:jupyter.viewOutput'>log</a> for further details. Activating /usr/bin/python3 to run Jupyter failed with function toString() { [native code] }"
     ]
    }
   ],
   "source": [
    "train1_for_pca = train1.iloc[:,4:34]\n",
    "train2_for_pca = train2.iloc[:,4:34]\n",
    "train3_for_pca = train3.iloc[:,4:34]\n",
    "train4_for_pca = train4.iloc[:,4:34]\n",
    "train5_for_pca = train5.iloc[:,4:34]\n",
    "train1_for_pca.describe()"
   ]
  },
  {
   "cell_type": "code",
   "execution_count": null,
   "id": "aa2c7de1",
   "metadata": {},
   "outputs": [
    {
     "ename": "",
     "evalue": "",
     "output_type": "error",
     "traceback": [
      "\u001b[1;31mFailed to start the Kernel. \n",
      "\u001b[1;31mFailed to start the Kernel 'Python 3.9.6'. \n",
      "\u001b[1;31mView Jupyter <a href='command:jupyter.viewOutput'>log</a> for further details. Activating /usr/bin/python3 to run Jupyter failed with function toString() { [native code] }"
     ]
    }
   ],
   "source": [
    "fig, ax = plt.subplots(figsize=(50,50)) \n",
    "\n",
    "sns.heatmap(train1_for_pca.corr(), annot=True, linewidths=.5, ax=ax)\n",
    "\n",
    "# Derived features and C1-C5 are highly correlated\n",
    "# We can try performing PCA on those features"
   ]
  },
  {
   "cell_type": "markdown",
   "id": "2357477d",
   "metadata": {},
   "source": [
    "# Converting data to Standard Scale for PCA"
   ]
  },
  {
   "cell_type": "code",
   "execution_count": null,
   "id": "7dd4e07b",
   "metadata": {},
   "outputs": [
    {
     "ename": "",
     "evalue": "",
     "output_type": "error",
     "traceback": [
      "\u001b[1;31mFailed to start the Kernel. \n",
      "\u001b[1;31mFailed to start the Kernel 'Python 3.9.6'. \n",
      "\u001b[1;31mView Jupyter <a href='command:jupyter.viewOutput'>log</a> for further details. Activating /usr/bin/python3 to run Jupyter failed with function toString() { [native code] }"
     ]
    }
   ],
   "source": [
    "from sklearn.preprocessing import StandardScaler\n",
    "scale = StandardScaler()\n",
    "train1_for_pca = scale.fit_transform(train1_for_pca)\n",
    "train2_for_pca = scale.fit_transform(train2_for_pca)\n",
    "train3_for_pca = scale.fit_transform(train3_for_pca)\n",
    "train4_for_pca = scale.fit_transform(train4_for_pca)\n",
    "train5_for_pca = scale.fit_transform(train5_for_pca)\n",
    "#train_for_pca"
   ]
  },
  {
   "cell_type": "markdown",
   "id": "c22001ec",
   "metadata": {},
   "source": [
    "# Applying PCA on highly correlated features"
   ]
  },
  {
   "cell_type": "code",
   "execution_count": null,
   "id": "1361940c",
   "metadata": {},
   "outputs": [
    {
     "ename": "",
     "evalue": "",
     "output_type": "error",
     "traceback": [
      "\u001b[1;31mFailed to start the Kernel. \n",
      "\u001b[1;31mFailed to start the Kernel 'Python 3.9.6'. \n",
      "\u001b[1;31mView Jupyter <a href='command:jupyter.viewOutput'>log</a> for further details. Activating /usr/bin/python3 to run Jupyter failed with function toString() { [native code] }"
     ]
    }
   ],
   "source": [
    "train1_for_pca.shape"
   ]
  },
  {
   "cell_type": "code",
   "execution_count": null,
   "id": "6eb3a32b",
   "metadata": {},
   "outputs": [
    {
     "ename": "",
     "evalue": "",
     "output_type": "error",
     "traceback": [
      "\u001b[1;31mFailed to start the Kernel. \n",
      "\u001b[1;31mFailed to start the Kernel 'Python 3.9.6'. \n",
      "\u001b[1;31mView Jupyter <a href='command:jupyter.viewOutput'>log</a> for further details. Activating /usr/bin/python3 to run Jupyter failed with function toString() { [native code] }"
     ]
    }
   ],
   "source": [
    "from sklearn.decomposition import PCA\n",
    "pca = PCA(n_components=0.95)\n",
    "train1_for_pca = pca.fit_transform(train1_for_pca)\n",
    "pca = PCA(n_components=train1_for_pca.shape[1])\n",
    "train2_for_pca = pca.fit_transform(train2_for_pca)\n",
    "train3_for_pca = pca.fit_transform(train3_for_pca)\n",
    "train4_for_pca = pca.fit_transform(train4_for_pca)\n",
    "train5_for_pca = pca.fit_transform(train5_for_pca)\n",
    "print(train1_for_pca.shape)\n",
    "print(train2_for_pca.shape)\n",
    "print(train3_for_pca.shape)\n",
    "print(train4_for_pca.shape)\n",
    "print(train5_for_pca.shape)"
   ]
  },
  {
   "cell_type": "code",
   "execution_count": null,
   "id": "7e041821",
   "metadata": {},
   "outputs": [
    {
     "ename": "",
     "evalue": "",
     "output_type": "error",
     "traceback": [
      "\u001b[1;31mFailed to start the Kernel. \n",
      "\u001b[1;31mFailed to start the Kernel 'Python 3.9.6'. \n",
      "\u001b[1;31mView Jupyter <a href='command:jupyter.viewOutput'>log</a> for further details. Activating /usr/bin/python3 to run Jupyter failed with function toString() { [native code] }"
     ]
    }
   ],
   "source": [
    "train1_for_pca"
   ]
  },
  {
   "cell_type": "code",
   "execution_count": null,
   "id": "1ffdf935",
   "metadata": {},
   "outputs": [
    {
     "ename": "",
     "evalue": "",
     "output_type": "error",
     "traceback": [
      "\u001b[1;31mFailed to start the Kernel. \n",
      "\u001b[1;31mFailed to start the Kernel 'Python 3.9.6'. \n",
      "\u001b[1;31mView Jupyter <a href='command:jupyter.viewOutput'>log</a> for further details. Activating /usr/bin/python3 to run Jupyter failed with function toString() { [native code] }"
     ]
    }
   ],
   "source": [
    "# Converting to a dictionary\n",
    "pca_col_names = ['pca_{}'.format(i) for i in range(1,9)]\n",
    "train1_derived = pd.DataFrame(train1_for_pca, columns = pca_col_names)\n",
    "train2_derived = pd.DataFrame(train2_for_pca, columns = pca_col_names)\n",
    "train3_derived = pd.DataFrame(train3_for_pca, columns = pca_col_names)\n",
    "train4_derived = pd.DataFrame(train4_for_pca, columns = pca_col_names)\n",
    "train5_derived = pd.DataFrame(train5_for_pca, columns = pca_col_names)\n",
    "train1_derived"
   ]
  },
  {
   "cell_type": "markdown",
   "id": "90d42f8f",
   "metadata": {},
   "source": [
    "# Cleaning rest of the data"
   ]
  },
  {
   "cell_type": "code",
   "execution_count": null,
   "id": "ef0caddb",
   "metadata": {},
   "outputs": [
    {
     "ename": "",
     "evalue": "",
     "output_type": "error",
     "traceback": [
      "\u001b[1;31mFailed to start the Kernel. \n",
      "\u001b[1;31mFailed to start the Kernel 'Python 3.9.6'. \n",
      "\u001b[1;31mView Jupyter <a href='command:jupyter.viewOutput'>log</a> for further details. Activating /usr/bin/python3 to run Jupyter failed with function toString() { [native code] }"
     ]
    }
   ],
   "source": [
    "dummy_train1 = pd.concat([train1.iloc[:,0:4],train1.iloc[:,34:]], axis = 1)\n",
    "dummy_train2 = pd.concat([train2.iloc[:,0:4],train2.iloc[:,34:]], axis = 1)\n",
    "dummy_train3 = pd.concat([train3.iloc[:,0:4],train3.iloc[:,34:]], axis = 1)\n",
    "dummy_train4 = pd.concat([train4.iloc[:,0:4],train4.iloc[:,34:]], axis = 1)\n",
    "dummy_train5 = pd.concat([train5.iloc[:,0:4],train5.iloc[:,34:]], axis = 1)\n",
    "dummy_train1"
   ]
  },
  {
   "cell_type": "code",
   "execution_count": null,
   "id": "bcab9331",
   "metadata": {},
   "outputs": [
    {
     "ename": "",
     "evalue": "",
     "output_type": "error",
     "traceback": [
      "\u001b[1;31mFailed to start the Kernel. \n",
      "\u001b[1;31mFailed to start the Kernel 'Python 3.9.6'. \n",
      "\u001b[1;31mView Jupyter <a href='command:jupyter.viewOutput'>log</a> for further details. Activating /usr/bin/python3 to run Jupyter failed with function toString() { [native code] }"
     ]
    }
   ],
   "source": [
    "dummy_train1.nunique()"
   ]
  },
  {
   "cell_type": "code",
   "execution_count": null,
   "id": "eb23f2eb",
   "metadata": {},
   "outputs": [
    {
     "ename": "NameError",
     "evalue": "name 'StandardScaler' is not defined",
     "output_type": "error",
     "traceback": [
      "\u001b[0;31m---------------------------------------------------------------------------\u001b[0m",
      "\u001b[0;31mNameError\u001b[0m                                 Traceback (most recent call last)",
      "Cell \u001b[0;32mIn[2], line 2\u001b[0m\n\u001b[1;32m      1\u001b[0m \u001b[38;5;66;03m# Converting the continuous features to a standard scale\u001b[39;00m\n\u001b[0;32m----> 2\u001b[0m scale \u001b[38;5;241m=\u001b[39m \u001b[43mStandardScaler\u001b[49m()\n\u001b[1;32m      3\u001b[0m dummy_train1\u001b[38;5;241m.\u001b[39miloc[:,:\u001b[38;5;241m8\u001b[39m] \u001b[38;5;241m=\u001b[39m scale\u001b[38;5;241m.\u001b[39mfit_transform(dummy_train1\u001b[38;5;241m.\u001b[39miloc[:,:\u001b[38;5;241m8\u001b[39m])\n\u001b[1;32m      4\u001b[0m dummy_train2\u001b[38;5;241m.\u001b[39miloc[:,:\u001b[38;5;241m8\u001b[39m] \u001b[38;5;241m=\u001b[39m scale\u001b[38;5;241m.\u001b[39mfit_transform(dummy_train2\u001b[38;5;241m.\u001b[39miloc[:,:\u001b[38;5;241m8\u001b[39m])\n",
      "\u001b[0;31mNameError\u001b[0m: name 'StandardScaler' is not defined"
     ]
    }
   ],
   "source": [
    "# Converting the continuous features to a standard scale\n",
    "scale = StandardScaler()\n",
    "dummy_train1.iloc[:,:8] = scale.fit_transform(dummy_train1.iloc[:,:8])\n",
    "dummy_train2.iloc[:,:8] = scale.fit_transform(dummy_train2.iloc[:,:8])\n",
    "dummy_train3.iloc[:,:8] = scale.fit_transform(dummy_train3.iloc[:,:8])\n",
    "dummy_train4.iloc[:,:8] = scale.fit_transform(dummy_train4.iloc[:,:8])\n",
    "dummy_train5.iloc[:,:8] = scale.fit_transform(dummy_train5.iloc[:,:8])\n",
    "dummy_train1"
   ]
  },
  {
   "cell_type": "code",
   "execution_count": null,
   "id": "4d8eb7a8",
   "metadata": {},
   "outputs": [
    {
     "ename": "",
     "evalue": "",
     "output_type": "error",
     "traceback": [
      "\u001b[1;31mFailed to start the Kernel. \n",
      "\u001b[1;31mFailed to start the Kernel 'Python 3.9.6'. \n",
      "\u001b[1;31mView Jupyter <a href='command:jupyter.viewOutput'>log</a> for further details. Activating /usr/bin/python3 to run Jupyter failed with function toString() { [native code] }"
     ]
    }
   ],
   "source": [
    "# Combining dummy_train and train_derived\n",
    "final_train1 = pd.concat([train1_derived,dummy_train1], axis = 1)\n",
    "final_train2 = pd.concat([train2_derived,dummy_train2], axis = 1)\n",
    "final_train3 = pd.concat([train3_derived,dummy_train3], axis = 1)\n",
    "final_train4 = pd.concat([train4_derived,dummy_train4], axis = 1)\n",
    "final_train5 = pd.concat([train5_derived,dummy_train5], axis = 1)\n",
    "final_train1.info()"
   ]
  },
  {
   "cell_type": "code",
   "execution_count": null,
   "id": "34568aeb",
   "metadata": {},
   "outputs": [
    {
     "ename": "",
     "evalue": "",
     "output_type": "error",
     "traceback": [
      "\u001b[1;31mFailed to start the Kernel. \n",
      "\u001b[1;31mFailed to start the Kernel 'Python 3.9.6'. \n",
      "\u001b[1;31mView Jupyter <a href='command:jupyter.viewOutput'>log</a> for further details. Activating /usr/bin/python3 to run Jupyter failed with function toString() { [native code] }"
     ]
    }
   ],
   "source": [
    "sns.pairplot(final_train1)\n",
    "# Data points have strong correlation which is good for regression"
   ]
  },
  {
   "cell_type": "markdown",
   "id": "5c96fa74",
   "metadata": {},
   "source": [
    "# Splitting into X and y"
   ]
  },
  {
   "cell_type": "code",
   "execution_count": null,
   "id": "969786df",
   "metadata": {},
   "outputs": [
    {
     "ename": "",
     "evalue": "",
     "output_type": "error",
     "traceback": [
      "\u001b[1;31mFailed to start the Kernel. \n",
      "\u001b[1;31mFailed to start the Kernel 'Python 3.9.6'. \n",
      "\u001b[1;31mView Jupyter <a href='command:jupyter.viewOutput'>log</a> for further details. Activating /usr/bin/python3 to run Jupyter failed with function toString() { [native code] }"
     ]
    }
   ],
   "source": [
    "X1 = final_train1.iloc[:,:-1]\n",
    "y1 = final_train1.iloc[:,-1]\n",
    "X2 = final_train2.iloc[:,:-1]\n",
    "y2 = final_train2.iloc[:,-1]\n",
    "X3 = final_train3.iloc[:,:-1]\n",
    "y3 = final_train3.iloc[:,-1]\n",
    "X4 = final_train4.iloc[:,:-1]\n",
    "y4 = final_train4.iloc[:,-1]\n",
    "X5 = final_train5.iloc[:,:-1]\n",
    "y5 = final_train5.iloc[:,-1]"
   ]
  },
  {
   "cell_type": "code",
   "execution_count": null,
   "id": "cf83e016",
   "metadata": {},
   "outputs": [
    {
     "ename": "",
     "evalue": "",
     "output_type": "error",
     "traceback": [
      "\u001b[1;31mFailed to start the Kernel. \n",
      "\u001b[1;31mFailed to start the Kernel 'Python 3.9.6'. \n",
      "\u001b[1;31mView Jupyter <a href='command:jupyter.viewOutput'>log</a> for further details. Activating /usr/bin/python3 to run Jupyter failed with function toString() { [native code] }"
     ]
    }
   ],
   "source": [
    "print(X1.shape)\n",
    "print(y1.shape)\n",
    "print(X2.shape)\n",
    "print(y2.shape)\n",
    "print(X3.shape)\n",
    "print(y3.shape)\n",
    "print(X4.shape)\n",
    "print(y4.shape)\n",
    "print(X5.shape)\n",
    "print(y5.shape)"
   ]
  },
  {
   "cell_type": "code",
   "execution_count": null,
   "id": "7719e056",
   "metadata": {},
   "outputs": [
    {
     "ename": "",
     "evalue": "",
     "output_type": "error",
     "traceback": [
      "\u001b[1;31mFailed to start the Kernel. \n",
      "\u001b[1;31mFailed to start the Kernel 'Python 3.9.6'. \n",
      "\u001b[1;31mView Jupyter <a href='command:jupyter.viewOutput'>log</a> for further details. Activating /usr/bin/python3 to run Jupyter failed with function toString() { [native code] }"
     ]
    }
   ],
   "source": [
    "y = pd.concat([y1,y2,y3,y4,y5], axis=0)\n",
    "y.shape"
   ]
  },
  {
   "cell_type": "code",
   "execution_count": null,
   "id": "6ade90b7",
   "metadata": {},
   "outputs": [
    {
     "ename": "",
     "evalue": "",
     "output_type": "error",
     "traceback": [
      "\u001b[1;31mFailed to start the Kernel. \n",
      "\u001b[1;31mFailed to start the Kernel 'Python 3.9.6'. \n",
      "\u001b[1;31mView Jupyter <a href='command:jupyter.viewOutput'>log</a> for further details. Activating /usr/bin/python3 to run Jupyter failed with function toString() { [native code] }"
     ]
    }
   ],
   "source": [
    "X = pd.concat(\n",
    "    [X1,X2,X3,X4,X5],\n",
    "    axis=0,\n",
    "    join=\"outer\",\n",
    "    ignore_index=False,\n",
    "    keys=None,\n",
    "    levels=None,\n",
    "    names=None,\n",
    "    verify_integrity=False,\n",
    "    copy=True,\n",
    ")\n",
    "X.shape"
   ]
  },
  {
   "cell_type": "markdown",
   "id": "3a88ed7e",
   "metadata": {},
   "source": [
    "# Hold Out Cross Validation"
   ]
  },
  {
   "cell_type": "code",
   "execution_count": null,
   "id": "337654eb",
   "metadata": {},
   "outputs": [
    {
     "ename": "",
     "evalue": "",
     "output_type": "error",
     "traceback": [
      "\u001b[1;31mFailed to start the Kernel. \n",
      "\u001b[1;31mFailed to start the Kernel 'Python 3.9.6'. \n",
      "\u001b[1;31mView Jupyter <a href='command:jupyter.viewOutput'>log</a> for further details. Activating /usr/bin/python3 to run Jupyter failed with function toString() { [native code] }"
     ]
    }
   ],
   "source": [
    "from sklearn.model_selection import train_test_split\n",
    "from sklearn.metrics import mean_squared_error"
   ]
  },
  {
   "cell_type": "code",
   "execution_count": null,
   "id": "764ad381",
   "metadata": {},
   "outputs": [
    {
     "ename": "",
     "evalue": "",
     "output_type": "error",
     "traceback": [
      "\u001b[1;31mFailed to start the Kernel. \n",
      "\u001b[1;31mFailed to start the Kernel 'Python 3.9.6'. \n",
      "\u001b[1;31mView Jupyter <a href='command:jupyter.viewOutput'>log</a> for further details. Activating /usr/bin/python3 to run Jupyter failed with function toString() { [native code] }"
     ]
    }
   ],
   "source": [
    "X_train, X_test, y_train, y_test = train_test_split(X,y,test_size=0.3,random_state=23)"
   ]
  },
  {
   "cell_type": "markdown",
   "id": "6e31c3d8",
   "metadata": {},
   "source": [
    "# Linear Regression"
   ]
  },
  {
   "cell_type": "code",
   "execution_count": null,
   "id": "63d09a31",
   "metadata": {},
   "outputs": [
    {
     "ename": "",
     "evalue": "",
     "output_type": "error",
     "traceback": [
      "\u001b[1;31mFailed to start the Kernel. \n",
      "\u001b[1;31mFailed to start the Kernel 'Python 3.9.6'. \n",
      "\u001b[1;31mView Jupyter <a href='command:jupyter.viewOutput'>log</a> for further details. Activating /usr/bin/python3 to run Jupyter failed with function toString() { [native code] }"
     ]
    }
   ],
   "source": [
    "from sklearn.linear_model import LinearRegression\n",
    "lr = LinearRegression()\n",
    "lr.fit(X_train,y_train)\n",
    "lr_pred = lr.predict(X_test)\n",
    "print(lr.score(X_train,y_train))\n",
    "print(lr.score(X_test, y_test))\n",
    "\n",
    "mse = mean_squared_error(y_test,lr_pred)\n",
    "mse"
   ]
  },
  {
   "cell_type": "markdown",
   "id": "539986ea",
   "metadata": {},
   "source": [
    "# Decision Tree Regressor"
   ]
  },
  {
   "cell_type": "code",
   "execution_count": null,
   "id": "1acd63c3",
   "metadata": {},
   "outputs": [
    {
     "ename": "",
     "evalue": "",
     "output_type": "error",
     "traceback": [
      "\u001b[1;31mFailed to start the Kernel. \n",
      "\u001b[1;31mFailed to start the Kernel 'Python 3.9.6'. \n",
      "\u001b[1;31mView Jupyter <a href='command:jupyter.viewOutput'>log</a> for further details. Activating /usr/bin/python3 to run Jupyter failed with function toString() { [native code] }"
     ]
    }
   ],
   "source": [
    "from sklearn.tree import DecisionTreeRegressor\n",
    "dr = DecisionTreeRegressor()\n",
    "dr.fit(X_train,y_train)\n",
    "dr_pred = dr.predict(X_test)\n",
    "print(dr.score(X_train,y_train))\n",
    "print(dr.score(X_test,y_test))\n",
    "\n",
    "mse = mean_squared_error(y_test,dr_pred)\n",
    "mse"
   ]
  },
  {
   "cell_type": "markdown",
   "id": "880b7cfd",
   "metadata": {},
   "source": [
    "# Random Forest Regressor"
   ]
  },
  {
   "cell_type": "code",
   "execution_count": null,
   "id": "bb17ed33",
   "metadata": {},
   "outputs": [
    {
     "ename": "",
     "evalue": "",
     "output_type": "error",
     "traceback": [
      "\u001b[1;31mFailed to start the Kernel. \n",
      "\u001b[1;31mFailed to start the Kernel 'Python 3.9.6'. \n",
      "\u001b[1;31mView Jupyter <a href='command:jupyter.viewOutput'>log</a> for further details. Activating /usr/bin/python3 to run Jupyter failed with function toString() { [native code] }"
     ]
    }
   ],
   "source": [
    "from sklearn.ensemble import RandomForestRegressor\n",
    "\n",
    "# define used regressor\n",
    "forest=RandomForestRegressor(n_estimators=20,\n",
    "                             max_depth=10,\n",
    "                             criterion='mse',\n",
    "                            )\n",
    "\n",
    "# Train 91%, test 75.47% (Without Standardization, No PCA)\n",
    "# Train 88.72%, test 75.19% (With Standardization, No PCA)\n",
    "#forest=RandomForestRegressor(n_estimators=30,\n",
    "#                             max_depth=20,\n",
    "#                             criterion='mse',\n",
    "#                             min_samples_split=10,\n",
    "#                            )\n",
    "\n",
    "# train model\n",
    "forest.fit(X_train,y_train)\n",
    "forest_pred = forest.predict(X_test)\n",
    "print(forest.score(X_train,y_train))\n",
    "print(forest.score(X_test,y_test))\n",
    "\n",
    "mse = mean_squared_error(y_test,forest_pred)\n",
    "mse"
   ]
  },
  {
   "cell_type": "markdown",
   "id": "c8f1c117",
   "metadata": {},
   "source": [
    "# XGBRegressor"
   ]
  },
  {
   "cell_type": "code",
   "execution_count": null,
   "id": "fa922e14",
   "metadata": {},
   "outputs": [
    {
     "ename": "",
     "evalue": "",
     "output_type": "error",
     "traceback": [
      "\u001b[1;31mFailed to start the Kernel. \n",
      "\u001b[1;31mFailed to start the Kernel 'Python 3.9.6'. \n",
      "\u001b[1;31mView Jupyter <a href='command:jupyter.viewOutput'>log</a> for further details. Activating /usr/bin/python3 to run Jupyter failed with function toString() { [native code] }"
     ]
    }
   ],
   "source": [
    "from xgboost import XGBRegressor\n",
    "xgb = XGBRegressor()\n",
    "xgb.fit(X_train,y_train)\n",
    "xgb_pred = xgb.predict(X_test)\n",
    "print(xgb.score(X_train,y_train))\n",
    "print(xgb.score(X_test,y_test))\n",
    "\n",
    "mse = mean_squared_error(y_test,xgb_pred)\n",
    "mse"
   ]
  },
  {
   "cell_type": "markdown",
   "id": "f05cbe7b",
   "metadata": {},
   "source": [
    "# Testing"
   ]
  },
  {
   "cell_type": "code",
   "execution_count": null,
   "id": "b2272be1",
   "metadata": {},
   "outputs": [
    {
     "ename": "",
     "evalue": "",
     "output_type": "error",
     "traceback": [
      "\u001b[1;31mFailed to start the Kernel. \n",
      "\u001b[1;31mFailed to start the Kernel 'Python 3.9.6'. \n",
      "\u001b[1;31mView Jupyter <a href='command:jupyter.viewOutput'>log</a> for further details. Activating /usr/bin/python3 to run Jupyter failed with function toString() { [native code] }"
     ]
    }
   ],
   "source": [
    "# Promotion Status contains a single value and hence is dropped\n",
    "# Promotion Status contains a single value and hence is dropped\n",
    "test1.drop('promotion_status', axis=1, inplace=True)\n",
    "test2.drop('promotion_status', axis=1, inplace=True)\n",
    "test3.drop('promotion_status', axis=1, inplace=True)\n",
    "test4.drop('promotion_status', axis=1, inplace=True)\n",
    "test5.drop('promotion_status', axis=1, inplace=True)\n",
    "test6.drop('promotion_status', axis=1, inplace=True)\n",
    "test7.drop('promotion_status', axis=1, inplace=True)\n",
    "test8.drop('promotion_status', axis=1, inplace=True)\n",
    "test9.drop('promotion_status', axis=1, inplace=True)\n",
    "test10.drop('promotion_status', axis=1, inplace=True)"
   ]
  },
  {
   "cell_type": "code",
   "execution_count": null,
   "id": "19bcbe7e",
   "metadata": {},
   "outputs": [
    {
     "ename": "",
     "evalue": "",
     "output_type": "error",
     "traceback": [
      "\u001b[1;31mFailed to start the Kernel. \n",
      "\u001b[1;31mFailed to start the Kernel 'Python 3.9.6'. \n",
      "\u001b[1;31mView Jupyter <a href='command:jupyter.viewOutput'>log</a> for further details. Activating /usr/bin/python3 to run Jupyter failed with function toString() { [native code] }"
     ]
    }
   ],
   "source": [
    "test1_for_pca = test1.iloc[:,4:34]\n",
    "test2_for_pca = test2.iloc[:,4:34]\n",
    "test3_for_pca = test3.iloc[:,4:34]\n",
    "test4_for_pca = test4.iloc[:,4:34]\n",
    "test5_for_pca = test5.iloc[:,4:34]\n",
    "test6_for_pca = test6.iloc[:,4:34]\n",
    "test7_for_pca = test7.iloc[:,4:34]\n",
    "test8_for_pca = test8.iloc[:,4:34]\n",
    "test9_for_pca = test9.iloc[:,4:34]\n",
    "test10_for_pca = test10.iloc[:,4:34]"
   ]
  },
  {
   "cell_type": "markdown",
   "id": "7ef63075",
   "metadata": {},
   "source": [
    "# Converting data to Standard Scale for PCA"
   ]
  },
  {
   "cell_type": "code",
   "execution_count": null,
   "id": "800d3e50",
   "metadata": {},
   "outputs": [
    {
     "ename": "",
     "evalue": "",
     "output_type": "error",
     "traceback": [
      "\u001b[1;31mFailed to start the Kernel. \n",
      "\u001b[1;31mFailed to start the Kernel 'Python 3.9.6'. \n",
      "\u001b[1;31mView Jupyter <a href='command:jupyter.viewOutput'>log</a> for further details. Activating /usr/bin/python3 to run Jupyter failed with function toString() { [native code] }"
     ]
    }
   ],
   "source": [
    "from sklearn.preprocessing import StandardScaler\n",
    "scale = StandardScaler()\n",
    "test1_for_pca = scale.fit_transform(test1_for_pca)\n",
    "test2_for_pca = scale.fit_transform(test2_for_pca)\n",
    "test3_for_pca = scale.fit_transform(test3_for_pca)\n",
    "test4_for_pca = scale.fit_transform(test4_for_pca)\n",
    "test5_for_pca = scale.fit_transform(test5_for_pca)"
   ]
  },
  {
   "cell_type": "markdown",
   "id": "b4e4c591",
   "metadata": {},
   "source": [
    "# Applying PCA on highly correlated features"
   ]
  },
  {
   "cell_type": "code",
   "execution_count": null,
   "id": "184b59cd",
   "metadata": {},
   "outputs": [
    {
     "ename": "",
     "evalue": "",
     "output_type": "error",
     "traceback": [
      "\u001b[1;31mFailed to start the Kernel. \n",
      "\u001b[1;31mFailed to start the Kernel 'Python 3.9.6'. \n",
      "\u001b[1;31mView Jupyter <a href='command:jupyter.viewOutput'>log</a> for further details. Activating /usr/bin/python3 to run Jupyter failed with function toString() { [native code] }"
     ]
    }
   ],
   "source": [
    "test1_for_pca.shape"
   ]
  },
  {
   "cell_type": "code",
   "execution_count": null,
   "id": "9cfa7b30",
   "metadata": {},
   "outputs": [
    {
     "ename": "",
     "evalue": "",
     "output_type": "error",
     "traceback": [
      "\u001b[1;31mFailed to start the Kernel. \n",
      "\u001b[1;31mFailed to start the Kernel 'Python 3.9.6'. \n",
      "\u001b[1;31mView Jupyter <a href='command:jupyter.viewOutput'>log</a> for further details. Activating /usr/bin/python3 to run Jupyter failed with function toString() { [native code] }"
     ]
    }
   ],
   "source": [
    "from sklearn.decomposition import PCA\n",
    "pca = PCA(n_components=train1_for_pca.shape[1])\n",
    "test1_for_pca = pca.fit_transform(test1_for_pca)\n",
    "test2_for_pca = pca.fit_transform(test2_for_pca)\n",
    "test3_for_pca = pca.fit_transform(test3_for_pca)\n",
    "test4_for_pca = pca.fit_transform(test4_for_pca)\n",
    "test5_for_pca = pca.fit_transform(test5_for_pca)\n",
    "print(test1_for_pca.shape)\n",
    "print(test2_for_pca.shape)\n",
    "print(test3_for_pca.shape)\n",
    "print(test4_for_pca.shape)\n",
    "print(test5_for_pca.shape)"
   ]
  },
  {
   "cell_type": "code",
   "execution_count": null,
   "id": "9d8e45e9",
   "metadata": {},
   "outputs": [
    {
     "ename": "",
     "evalue": "",
     "output_type": "error",
     "traceback": [
      "\u001b[1;31mFailed to start the Kernel. \n",
      "\u001b[1;31mFailed to start the Kernel 'Python 3.9.6'. \n",
      "\u001b[1;31mView Jupyter <a href='command:jupyter.viewOutput'>log</a> for further details. Activating /usr/bin/python3 to run Jupyter failed with function toString() { [native code] }"
     ]
    }
   ],
   "source": [
    "# Converting to a dictionary\n",
    "pca_col_names = ['pca_{}'.format(i) for i in range(1,9)]\n",
    "test1_derived = pd.DataFrame(test1_for_pca, columns = pca_col_names)\n",
    "test2_derived = pd.DataFrame(test2_for_pca, columns = pca_col_names)\n",
    "test3_derived = pd.DataFrame(test3_for_pca, columns = pca_col_names)\n",
    "test4_derived = pd.DataFrame(test4_for_pca, columns = pca_col_names)\n",
    "test5_derived = pd.DataFrame(test5_for_pca, columns = pca_col_names)\n",
    "test1_derived"
   ]
  },
  {
   "cell_type": "markdown",
   "id": "1f75be7d",
   "metadata": {},
   "source": [
    "# Cleaning rest of the data"
   ]
  },
  {
   "cell_type": "code",
   "execution_count": null,
   "id": "245dc373",
   "metadata": {},
   "outputs": [
    {
     "ename": "",
     "evalue": "",
     "output_type": "error",
     "traceback": [
      "\u001b[1;31mFailed to start the Kernel. \n",
      "\u001b[1;31mFailed to start the Kernel 'Python 3.9.6'. \n",
      "\u001b[1;31mView Jupyter <a href='command:jupyter.viewOutput'>log</a> for further details. Activating /usr/bin/python3 to run Jupyter failed with function toString() { [native code] }"
     ]
    }
   ],
   "source": [
    "dummy_test1 = pd.concat([test1.iloc[:,0:4],test1.iloc[:,34:]], axis = 1)\n",
    "dummy_test2 = pd.concat([test2.iloc[:,0:4],test2.iloc[:,34:]], axis = 1)\n",
    "dummy_test3 = pd.concat([test3.iloc[:,0:4],test3.iloc[:,34:]], axis = 1)\n",
    "dummy_test4 = pd.concat([test4.iloc[:,0:4],test4.iloc[:,34:]], axis = 1)\n",
    "dummy_test5 = pd.concat([test5.iloc[:,0:4],test5.iloc[:,34:]], axis = 1)\n",
    "dummy_test1"
   ]
  },
  {
   "cell_type": "code",
   "execution_count": null,
   "id": "97dea8ff",
   "metadata": {},
   "outputs": [
    {
     "ename": "",
     "evalue": "",
     "output_type": "error",
     "traceback": [
      "\u001b[1;31mFailed to start the Kernel. \n",
      "\u001b[1;31mFailed to start the Kernel 'Python 3.9.6'. \n",
      "\u001b[1;31mView Jupyter <a href='command:jupyter.viewOutput'>log</a> for further details. Activating /usr/bin/python3 to run Jupyter failed with function toString() { [native code] }"
     ]
    }
   ],
   "source": [
    "# Converting the continuous features to a standard scale\n",
    "scale = StandardScaler()\n",
    "dummy_test1.iloc[:,:8] = scale.fit_transform(dummy_test1.iloc[:,:8])\n",
    "dummy_test2.iloc[:,:8] = scale.fit_transform(dummy_test2.iloc[:,:8])\n",
    "dummy_test3.iloc[:,:8] = scale.fit_transform(dummy_test3.iloc[:,:8])\n",
    "dummy_test4.iloc[:,:8] = scale.fit_transform(dummy_test4.iloc[:,:8])\n",
    "dummy_test5.iloc[:,:8] = scale.fit_transform(dummy_test5.iloc[:,:8])\n",
    "dummy_test1"
   ]
  },
  {
   "cell_type": "code",
   "execution_count": null,
   "id": "1519dd26",
   "metadata": {},
   "outputs": [
    {
     "ename": "",
     "evalue": "",
     "output_type": "error",
     "traceback": [
      "\u001b[1;31mFailed to start the Kernel. \n",
      "\u001b[1;31mFailed to start the Kernel 'Python 3.9.6'. \n",
      "\u001b[1;31mView Jupyter <a href='command:jupyter.viewOutput'>log</a> for further details. Activating /usr/bin/python3 to run Jupyter failed with function toString() { [native code] }"
     ]
    }
   ],
   "source": [
    "# Combining dummy_train and train_derived\n",
    "final_test1 = pd.concat([test1_derived,dummy_test1], axis = 1)\n",
    "final_test2 = pd.concat([test2_derived,dummy_test2], axis = 1)\n",
    "final_test3 = pd.concat([test3_derived,dummy_test3], axis = 1)\n",
    "final_test4 = pd.concat([test4_derived,dummy_test4], axis = 1)\n",
    "final_test5 = pd.concat([test5_derived,dummy_test5], axis = 1)\n",
    "final_test1.head()"
   ]
  },
  {
   "cell_type": "code",
   "execution_count": null,
   "id": "de854972",
   "metadata": {},
   "outputs": [
    {
     "ename": "",
     "evalue": "",
     "output_type": "error",
     "traceback": [
      "\u001b[1;31mFailed to start the Kernel. \n",
      "\u001b[1;31mFailed to start the Kernel 'Python 3.9.6'. \n",
      "\u001b[1;31mView Jupyter <a href='command:jupyter.viewOutput'>log</a> for further details. Activating /usr/bin/python3 to run Jupyter failed with function toString() { [native code] }"
     ]
    }
   ],
   "source": [
    "tX1 = final_test1.drop('No_of_Comments_in_H_hours',axis=1)\n",
    "ty1 = final_test1['No_of_Comments_in_H_hours']\n",
    "tX2 = final_test2.drop('No_of_Comments_in_H_hours',axis=1)\n",
    "ty2 = final_test2['No_of_Comments_in_H_hours']\n",
    "tX3 = final_test3.drop('No_of_Comments_in_H_hours',axis=1)\n",
    "ty3 = final_test3['No_of_Comments_in_H_hours']\n",
    "tX4 = final_test4.drop('No_of_Comments_in_H_hours',axis=1)\n",
    "ty4 = final_test4['No_of_Comments_in_H_hours']\n",
    "tX5 = final_test5.drop('No_of_Comments_in_H_hours',axis=1)\n",
    "ty5 = final_test5['No_of_Comments_in_H_hours']"
   ]
  },
  {
   "cell_type": "markdown",
   "id": "b7d51d7d",
   "metadata": {},
   "source": [
    "### Linear Regression"
   ]
  },
  {
   "cell_type": "code",
   "execution_count": null,
   "id": "46a60b26",
   "metadata": {},
   "outputs": [
    {
     "ename": "",
     "evalue": "",
     "output_type": "error",
     "traceback": [
      "\u001b[1;31mFailed to start the Kernel. \n",
      "\u001b[1;31mFailed to start the Kernel 'Python 3.9.6'. \n",
      "\u001b[1;31mView Jupyter <a href='command:jupyter.viewOutput'>log</a> for further details. Activating /usr/bin/python3 to run Jupyter failed with function toString() { [native code] }"
     ]
    }
   ],
   "source": [
    "test1_pred = lr.predict(tX1)\n",
    "test2_pred = lr.predict(tX2)\n",
    "test3_pred = lr.predict(tX3)\n",
    "test4_pred = lr.predict(tX4)\n",
    "test5_pred = lr.predict(tX5)\n",
    "print(lr.score(tX1,ty1))\n",
    "print(lr.score(tX2,ty2))\n",
    "print(lr.score(tX3,ty3))\n",
    "print(lr.score(tX4,ty4))\n",
    "print(lr.score(tX5,ty5))\n",
    "\n",
    "mse1 = mean_squared_error(ty1,test1_pred)\n",
    "mse2 = mean_squared_error(ty2,test2_pred)\n",
    "mse3 = mean_squared_error(ty3,test3_pred)\n",
    "mse4 = mean_squared_error(ty4,test4_pred)\n",
    "mse5 = mean_squared_error(ty5,test5_pred)\n",
    "print(\"Test Case 1:\",mse1)\n",
    "print(\"Test Case 2:\",mse2)\n",
    "print(\"Test Case 3:\",mse3)\n",
    "print(\"Test Case 4:\",mse4)\n",
    "print(\"Test Case 5:\",mse5)\n",
    "\n",
    "mse = [mse1,mse2,mse3,mse4,mse5]\n",
    "print(\"\\nAverage MSE:\",np.mean(mse))"
   ]
  },
  {
   "cell_type": "markdown",
   "id": "fc5ad196",
   "metadata": {},
   "source": [
    "### Decision Tree"
   ]
  },
  {
   "cell_type": "code",
   "execution_count": null,
   "id": "c8cdc9ca",
   "metadata": {},
   "outputs": [
    {
     "ename": "",
     "evalue": "",
     "output_type": "error",
     "traceback": [
      "\u001b[1;31mFailed to start the Kernel. \n",
      "\u001b[1;31mFailed to start the Kernel 'Python 3.9.6'. \n",
      "\u001b[1;31mView Jupyter <a href='command:jupyter.viewOutput'>log</a> for further details. Activating /usr/bin/python3 to run Jupyter failed with function toString() { [native code] }"
     ]
    }
   ],
   "source": [
    "test1_pred = dr.predict(tX1)\n",
    "test2_pred = dr.predict(tX2)\n",
    "test3_pred = dr.predict(tX3)\n",
    "test4_pred = dr.predict(tX4)\n",
    "test5_pred = dr.predict(tX5)\n",
    "print(dr.score(tX1,ty1))\n",
    "print(dr.score(tX2,ty2))\n",
    "print(dr.score(tX3,ty3))\n",
    "print(dr.score(tX4,ty4))\n",
    "print(dr.score(tX5,ty5))\n",
    "\n",
    "mse1 = mean_squared_error(ty1,test1_pred)\n",
    "mse2 = mean_squared_error(ty2,test2_pred)\n",
    "mse3 = mean_squared_error(ty3,test3_pred)\n",
    "mse4 = mean_squared_error(ty4,test4_pred)\n",
    "mse5 = mean_squared_error(ty5,test5_pred)\n",
    "print(\"Test Case 1:\",mse1)\n",
    "print(\"Test Case 2:\",mse2)\n",
    "print(\"Test Case 3:\",mse3)\n",
    "print(\"Test Case 4:\",mse4)\n",
    "print(\"Test Case 5:\",mse5)\n",
    "\n",
    "mse = [mse1,mse2,mse3,mse4,mse5]\n",
    "print(\"\\nAverage MSE:\",np.mean(mse))"
   ]
  },
  {
   "cell_type": "markdown",
   "id": "0dd1ecce",
   "metadata": {},
   "source": [
    "### Random Forest"
   ]
  },
  {
   "cell_type": "code",
   "execution_count": null,
   "id": "6a546a2e",
   "metadata": {},
   "outputs": [
    {
     "ename": "",
     "evalue": "",
     "output_type": "error",
     "traceback": [
      "\u001b[1;31mFailed to start the Kernel. \n",
      "\u001b[1;31mFailed to start the Kernel 'Python 3.9.6'. \n",
      "\u001b[1;31mView Jupyter <a href='command:jupyter.viewOutput'>log</a> for further details. Activating /usr/bin/python3 to run Jupyter failed with function toString() { [native code] }"
     ]
    }
   ],
   "source": [
    "test1_pred = forest.predict(tX1)\n",
    "test2_pred = forest.predict(tX2)\n",
    "test3_pred = forest.predict(tX3)\n",
    "test4_pred = forest.predict(tX4)\n",
    "test5_pred = forest.predict(tX5)\n",
    "print(forest.score(tX1,ty1))\n",
    "print(forest.score(tX2,ty2))\n",
    "print(forest.score(tX3,ty3))\n",
    "print(forest.score(tX4,ty4))\n",
    "print(forest.score(tX5,ty5))\n",
    "\n",
    "mse1 = mean_squared_error(ty1,test1_pred)\n",
    "mse2 = mean_squared_error(ty2,test2_pred)\n",
    "mse3 = mean_squared_error(ty3,test3_pred)\n",
    "mse4 = mean_squared_error(ty4,test4_pred)\n",
    "mse5 = mean_squared_error(ty5,test5_pred)\n",
    "print(\"Test Case 1:\",mse1)\n",
    "print(\"Test Case 2:\",mse2)\n",
    "print(\"Test Case 3:\",mse3)\n",
    "print(\"Test Case 4:\",mse4)\n",
    "print(\"Test Case 5:\",mse5)\n",
    "\n",
    "mse = [mse1,mse2,mse3,mse4,mse5]\n",
    "print(\"\\nAverage MSE:\",np.mean(mse))"
   ]
  },
  {
   "cell_type": "markdown",
   "id": "edd19c8f",
   "metadata": {},
   "source": [
    "### XGB"
   ]
  },
  {
   "cell_type": "code",
   "execution_count": null,
   "id": "182f7631",
   "metadata": {},
   "outputs": [
    {
     "ename": "",
     "evalue": "",
     "output_type": "error",
     "traceback": [
      "\u001b[1;31mFailed to start the Kernel. \n",
      "\u001b[1;31mFailed to start the Kernel 'Python 3.9.6'. \n",
      "\u001b[1;31mView Jupyter <a href='command:jupyter.viewOutput'>log</a> for further details. Activating /usr/bin/python3 to run Jupyter failed with function toString() { [native code] }"
     ]
    }
   ],
   "source": [
    "test1_pred = xgb.predict(tX1)\n",
    "test2_pred = xgb.predict(tX2)\n",
    "test3_pred = xgb.predict(tX3)\n",
    "test4_pred = xgb.predict(tX4)\n",
    "test5_pred = xgb.predict(tX5)\n",
    "print(xgb.score(tX1,ty1))\n",
    "print(xgb.score(tX2,ty2))\n",
    "print(xgb.score(tX3,ty3))\n",
    "print(xgb.score(tX4,ty4))\n",
    "print(xgb.score(tX5,ty5))\n",
    "\n",
    "mse1 = mean_squared_error(ty1,test1_pred)\n",
    "mse2 = mean_squared_error(ty2,test2_pred)\n",
    "mse3 = mean_squared_error(ty3,test3_pred)\n",
    "mse4 = mean_squared_error(ty4,test4_pred)\n",
    "mse5 = mean_squared_error(ty5,test5_pred)\n",
    "print(\"Test Case 1:\",mse1)\n",
    "print(\"Test Case 2:\",mse2)\n",
    "print(\"Test Case 3:\",mse3)\n",
    "print(\"Test Case 4:\",mse4)\n",
    "print(\"Test Case 5:\",mse5)\n",
    "\n",
    "mse = [mse1,mse2,mse3,mse4,mse5]\n",
    "print(\"\\nAverage MSE:\",np.mean(mse))"
   ]
  },
  {
   "cell_type": "code",
   "execution_count": null,
   "id": "be3f2444",
   "metadata": {},
   "outputs": [
    {
     "ename": "",
     "evalue": "",
     "output_type": "error",
     "traceback": [
      "\u001b[1;31mFailed to start the Kernel. \n",
      "\u001b[1;31mFailed to start the Kernel 'Python 3.9.6'. \n",
      "\u001b[1;31mView Jupyter <a href='command:jupyter.viewOutput'>log</a> for further details. Activating /usr/bin/python3 to run Jupyter failed with function toString() { [native code] }"
     ]
    }
   ],
   "source": []
  },
  {
   "cell_type": "code",
   "execution_count": null,
   "id": "dd754453",
   "metadata": {},
   "outputs": [
    {
     "ename": "",
     "evalue": "",
     "output_type": "error",
     "traceback": [
      "\u001b[1;31mFailed to start the Kernel. \n",
      "\u001b[1;31mFailed to start the Kernel 'Python 3.9.6'. \n",
      "\u001b[1;31mView Jupyter <a href='command:jupyter.viewOutput'>log</a> for further details. Activating /usr/bin/python3 to run Jupyter failed with function toString() { [native code] }"
     ]
    }
   ],
   "source": []
  }
 ],
 "metadata": {
  "kernelspec": {
   "display_name": "Python 3",
   "language": "python",
   "name": "python3"
  },
  "language_info": {
   "codemirror_mode": {
    "name": "ipython",
    "version": 3
   },
   "file_extension": ".py",
   "mimetype": "text/x-python",
   "name": "python",
   "nbconvert_exporter": "python",
   "pygments_lexer": "ipython3",
   "version": "3.9.6"
  },
  "vscode": {
   "interpreter": {
    "hash": "31f2aee4e71d21fbe5cf8b01ff0e069b9275f58929596ceb00d14d90e3e16cd6"
   }
  }
 },
 "nbformat": 4,
 "nbformat_minor": 5
}
